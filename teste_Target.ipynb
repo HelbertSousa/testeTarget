{
 "cells": [
  {
   "cell_type": "markdown",
   "id": "7c6ffda3",
   "metadata": {},
   "source": [
    "# Exercício 01 - Valor da variável Soma"
   ]
  },
  {
   "cell_type": "code",
   "execution_count": 26,
   "id": "e16ffc66",
   "metadata": {},
   "outputs": [
    {
     "name": "stdout",
     "output_type": "stream",
     "text": [
      "91\n"
     ]
    }
   ],
   "source": [
    "INDICE = 13\n",
    "SOMA = 0 \n",
    "K = 0;\n",
    "\n",
    "for i in range(0, INDICE):\n",
    "    K = K + 1;\n",
    "    SOMA = SOMA + K;\n",
    "\n",
    "\n",
    "print(SOMA);"
   ]
  },
  {
   "cell_type": "markdown",
   "id": "33688aaa",
   "metadata": {},
   "source": [
    "## Exercício 02 - Dado a sequência de Fibonacci, onde se inicia por 0 e 1 e o próximo valor sempre será a soma dos 2 valores anteriores (exemplo: 0, 1, 1, 2, 3, 5, 8, 13, 21, 34...), escreva um programa na linguagem que desejar onde, informado um número, ele calcule a sequência de Fibonacci e retorne uma mensagem avisando se o número informado pertence ou não a sequência.\n",
    "\n",
    "IMPORTANTE:\n",
    "Esse número pode ser informado através de qualquer entrada de sua preferência ou pode ser previamente definido no código;"
   ]
  },
  {
   "cell_type": "code",
   "execution_count": 14,
   "id": "ac2470d4",
   "metadata": {},
   "outputs": [
    {
     "name": "stdout",
     "output_type": "stream",
     "text": [
      "Digite o número que deseja saber se existe na Sequência de Fibonacci: 21\n",
      "Pertence a Sequência de Fibonacci\n"
     ]
    }
   ],
   "source": [
    "prim = 0\n",
    "seg = 1\n",
    "\n",
    "numero = int(input('Digite o número que deseja saber se existe na Sequência de Fibonacci: '))\n",
    "if(numero == 0):\n",
    "    print('Pertence a Sequência de Fibonacci')\n",
    "else:\n",
    "    for i in range(0, numero):\n",
    "        seq = prim + seg\n",
    "        if(seq == numero):\n",
    "            print('Pertence a Sequência de Fibonacci')\n",
    "            break\n",
    "        elif(seq > numero):\n",
    "            print('Não Pertence a Sequência de Fibonacci')\n",
    "            break\n",
    "        prim = seg\n",
    "        seg = seq\n",
    "    "
   ]
  },
  {
   "cell_type": "markdown",
   "id": "788c8603",
   "metadata": {},
   "source": [
    "## Exercicio 03 -  Dado um vetor que guarda o valor de faturamento diário de uma distribuidora, faça um programa, na linguagem que desejar, que calcule e retorne:\n",
    "- O menor valor de faturamento ocorrido em um dia do mês;\n",
    "- O maior valor de faturamento ocorrido em um dia do mês;\n",
    "- Número de dias no mês em que o valor de faturamento diário foi superior à média mensal."
   ]
  },
  {
   "cell_type": "code",
   "execution_count": 16,
   "id": "44d49b5c",
   "metadata": {},
   "outputs": [],
   "source": [
    "import pandas as pd\n",
    "import json"
   ]
  },
  {
   "cell_type": "markdown",
   "id": "d832a773",
   "metadata": {},
   "source": [
    "### O menor valor de faturamento ocorrido em um dia do mês:"
   ]
  },
  {
   "cell_type": "code",
   "execution_count": 56,
   "id": "36bb7779",
   "metadata": {},
   "outputs": [
    {
     "name": "stdout",
     "output_type": "stream",
     "text": [
      "O menor faturamento aconteceu no dia 14 e foi de 373.7838\n"
     ]
    }
   ],
   "source": [
    "df = pd.read_json('/ExercicioTarget/dados.json')\n",
    "\n",
    "menorvalor = df[df['valor'] != 0].min()\n",
    "menorvalorindex = df[df['valor'] != 0].idxmin()\n",
    "\n",
    "print('O menor faturamento aconteceu no dia %d e foi de %.4f' %(menorvalorindex['valor'] + 1, menorvalor['valor']))"
   ]
  },
  {
   "cell_type": "markdown",
   "id": "a907036b",
   "metadata": {},
   "source": [
    "### O maior valor de faturamento ocorrido em um dia do mês:"
   ]
  },
  {
   "cell_type": "code",
   "execution_count": 67,
   "id": "85917052",
   "metadata": {},
   "outputs": [
    {
     "name": "stdout",
     "output_type": "stream",
     "text": [
      "O maior faturamento aconteceu no dia 16 e foi de 48924.2448\n"
     ]
    }
   ],
   "source": [
    "df = pd.read_json('/ExercicioTarget/dados.json')\n",
    "\n",
    "maiorvalor = df['valor'].max()\n",
    "maiorvalorindex = df['valor'].idxmax()\n",
    "\n",
    "print('O maior faturamento aconteceu no dia %d e foi de %.4f' %(maiorvalorindex + 1, maiorvalor))"
   ]
  },
  {
   "cell_type": "markdown",
   "id": "71864682",
   "metadata": {},
   "source": [
    "### Número de dias no mês em que o valor de faturamento diário foi superior à média mensal:"
   ]
  },
  {
   "cell_type": "code",
   "execution_count": 84,
   "id": "0f0e5c70",
   "metadata": {},
   "outputs": [
    {
     "name": "stdout",
     "output_type": "stream",
     "text": [
      "A média mensal foi de 14605.7591 e a quantidade de dias que teve seu faturamento superior a média foi de 12 dias\n"
     ]
    }
   ],
   "source": [
    "df = pd.read_json('/ExercicioTarget/dados.json')\n",
    "\n",
    "media = df['valor'].mean()\n",
    "\n",
    "quantdias = df[df['valor'] > media].count()\n",
    "\n",
    "print('A média mensal foi de %.4f e a quantidade de dias que teve seu faturamento superior a média foi de %d dias.' %(media,quantdias['valor']))"
   ]
  },
  {
   "cell_type": "markdown",
   "id": "5d9253a0",
   "metadata": {},
   "source": [
    "## Exercicio 04  Dado o valor de faturamento mensal de uma distribuidora, detalhado por estado:"
   ]
  },
  {
   "cell_type": "markdown",
   "id": "98308528",
   "metadata": {},
   "source": [
    "### Escreva um programa na linguagem que desejar onde calcule o percentual de representação que cada estado teve dentro do valor total mensal da distribuidora.\n"
   ]
  },
  {
   "cell_type": "code",
   "execution_count": 134,
   "id": "514f0ef9",
   "metadata": {},
   "outputs": [],
   "source": [
    "def totalcity(listCity):\n",
    "    total = 0\n",
    "    for i in listCity:\n",
    "        total = total + i\n",
    "    return total\n",
    "\n",
    "def percRepr(total, city):\n",
    "    return ((city / total) * 100)"
   ]
  },
  {
   "cell_type": "code",
   "execution_count": 135,
   "id": "fcdd844c",
   "metadata": {},
   "outputs": [],
   "source": [
    "sp = 67836.43\n",
    "rj = 36678.66\n",
    "mg = 29229.88\n",
    "es = 27165.48\n",
    "outros = 1989.53\n",
    "\n",
    "city = []\n",
    "\n",
    "city.append(sp)\n",
    "city.append(rj)\n",
    "city.append(mg)\n",
    "city.append(es)\n",
    "city.append(outros)\n",
    "\n",
    "totalGanho = totalcity(city)"
   ]
  },
  {
   "cell_type": "code",
   "execution_count": 138,
   "id": "71824634",
   "metadata": {},
   "outputs": [
    {
     "name": "stdout",
     "output_type": "stream",
     "text": [
      "Sao Paulo      participou 41.64%\n",
      "Rio de Janeiro participou 22.52%\n",
      "Minas Gerais   participou 17.94%\n",
      "Espirito Santo participou 16.68%\n",
      "Outros Estados participou 1.22%\n"
     ]
    }
   ],
   "source": [
    "print('Sao Paulo      participou %.2f%%'  %(percRepr(totalGanho,sp)))\n",
    "print('Rio de Janeiro participou %.2f%%'  %(percRepr(totalGanho,rj)))\n",
    "print('Minas Gerais   participou %.2f%%'  %(percRepr(totalGanho,mg)))\n",
    "print('Espirito Santo participou %.2f%%'  %(percRepr(totalGanho,es)))\n",
    "print('Outros Estados participou %.2f%%'  %(percRepr(totalGanho,outros)))"
   ]
  },
  {
   "cell_type": "markdown",
   "id": "f38ab8be",
   "metadata": {},
   "source": [
    "# Exercicio 05 - Escreva um programa que inverta os caracteres de um string.\n",
    "\n",
    "IMPORTANTE:\n",
    "- Essa string pode ser informada através de qualquer entrada de sua preferência ou pode ser previamente definida no código;\n",
    "- Evite usar funções prontas, como, por exemplo, reverse;\n"
   ]
  },
  {
   "cell_type": "code",
   "execution_count": 164,
   "id": "b5e5505f",
   "metadata": {},
   "outputs": [],
   "source": [
    "def reverseString(string):\n",
    "    return string[::-1]\n",
    "\n",
    "# com while\n",
    "def reverseString2(string):\n",
    "    cont = len(string)\n",
    "    rev = []\n",
    "    while(cont):\n",
    "        cont = cont - 1\n",
    "        rev.append(string[cont])\n",
    "        \n",
    "    return rev"
   ]
  },
  {
   "cell_type": "code",
   "execution_count": 172,
   "id": "1b15cad4",
   "metadata": {},
   "outputs": [
    {
     "name": "stdout",
     "output_type": "stream",
     "text": [
      "Entre com sua string:String reversa\n",
      "String reversa método 1: asrever gnirtS\n",
      "String reversa método 2: asrever gnirtS\n"
     ]
    }
   ],
   "source": [
    "string = input('Entre com sua string:')\n",
    "rev1 = reverseString(string)\n",
    "\n",
    "aux = reverseString2(string)\n",
    "\n",
    "rev2 = ''.join(aux)\n",
    "\n",
    "print('String reversa método 1: %s' %(rev1))\n",
    "\n",
    "print('String reversa método 2: %s' %(rev2))"
   ]
  },
  {
   "cell_type": "code",
   "execution_count": null,
   "id": "572e79d0",
   "metadata": {},
   "outputs": [],
   "source": []
  }
 ],
 "metadata": {
  "kernelspec": {
   "display_name": "Python 3 (ipykernel)",
   "language": "python",
   "name": "python3"
  },
  "language_info": {
   "codemirror_mode": {
    "name": "ipython",
    "version": 3
   },
   "file_extension": ".py",
   "mimetype": "text/x-python",
   "name": "python",
   "nbconvert_exporter": "python",
   "pygments_lexer": "ipython3",
   "version": "3.9.7"
  }
 },
 "nbformat": 4,
 "nbformat_minor": 5
}
